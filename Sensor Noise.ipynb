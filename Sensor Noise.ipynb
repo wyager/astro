{
 "cells": [
  {
   "cell_type": "code",
   "execution_count": 1,
   "metadata": {},
   "outputs": [],
   "source": [
    "%matplotlib inline"
   ]
  },
  {
   "cell_type": "code",
   "execution_count": 2,
   "metadata": {},
   "outputs": [],
   "source": [
    "import numpy as np\n",
    "import matplotlib.pyplot as plt\n",
    "import imageio\n",
    "import cv2\n",
    "from scipy import interpolate"
   ]
  },
  {
   "cell_type": "code",
   "execution_count": 3,
   "metadata": {},
   "outputs": [],
   "source": [
    "def quick_rundown(bog,w,width,fig):\n",
    "    (x,y,chs) = bog.shape\n",
    "    num_plots = 9\n",
    "    indices = ((i*width)+w+1 for i in range(num_plots))\n",
    "    subplots = (fig.add_subplot(num_plots,width,i) for i in indices)\n",
    "    # The image itself\n",
    "    original = subplots.__next__()\n",
    "    original.set_title('original')\n",
    "    original.imshow(bog.astype('double')/65535.0)\n",
    "    # channel intensity distributions\n",
    "    distribution = subplots.__next__()\n",
    "    distribution.set_title('per-channel intensity distribution')\n",
    "    logdist = subplots.__next__()\n",
    "    logdist.set_yscale('log')\n",
    "    logdist.set_title('per-channel intensity distribution, log')\n",
    "    noisedist = subplots.__next__()\n",
    "    noisedist.set_yscale('log')\n",
    "    noisedist.set_title('per-channel intensity distribution, log, 1000-12000')\n",
    "    lodist = subplots.__next__()\n",
    "    lodist.set_yscale('log')\n",
    "    lodist.set_title('per-channel intensity distribution, log, 0-1000')\n",
    "    hidist = subplots.__next__()\n",
    "    hidist.set_yscale('log')\n",
    "    hidist.set_title('per-channel intensity distribution, log, 64000-65535')\n",
    "    for (i,color) in enumerate(\"rgb\"[:chs]):\n",
    "        counts = np.bincount(bog[:,:,i].reshape(x*y))\n",
    "        distribution.plot(counts,color)\n",
    "        logdist.plot(counts,color)\n",
    "        noisedist.plot(counts[1000:12000],color)\n",
    "        lodist.plot(counts[:1000],color)\n",
    "        hidist.plot(counts[64000:],color)\n",
    "    # Pick out where the bulk of the pixels fall\n",
    "    loband = subplots.__next__()\n",
    "    loband.set_title('low intensity pixels shown in white')\n",
    "    loband.imshow(((bog <= 1000)).astype('float'))\n",
    "    noiseband = subplots.__next__()\n",
    "    noiseband.set_title('medium-low intensity pixels shown in white')\n",
    "    noiseband.imshow(((bog > 1000) & (bog < 12000)).astype('float'))\n",
    "    hiband = subplots.__next__()\n",
    "    hiband.set_title('high intensity pixels shown in white')\n",
    "    hiband.imshow(((bog >= 12000)).astype('float'))\n",
    "def quick_rundowns(bogs):\n",
    "    width = len(bogs)\n",
    "    fig = plt.figure(figsize=(15,40))\n",
    "    for (w,img) in enumerate(bogs):\n",
    "        quick_rundown(img,w,width,fig)\n",
    "    return fig"
   ]
  },
  {
   "cell_type": "code",
   "execution_count": 4,
   "metadata": {},
   "outputs": [],
   "source": [
    "# fig = quick_rundowns([t1,t2])\n",
    "# fig.savefig('fig.pdf',dpi=600)"
   ]
  },
  {
   "cell_type": "code",
   "execution_count": null,
   "metadata": {},
   "outputs": [],
   "source": [
    "# fig = quick_rundowns([t1,(t3*65535).astype('uint16')])\n",
    "# fig.savefig('combined.pdf',dpi=600)\n",
    "\n"
   ]
  }
 ],
 "metadata": {
  "kernelspec": {
   "display_name": "Python 3",
   "language": "python",
   "name": "python3"
  },
  "language_info": {
   "codemirror_mode": {
    "name": "ipython",
    "version": 3
   },
   "file_extension": ".py",
   "mimetype": "text/x-python",
   "name": "python",
   "nbconvert_exporter": "python",
   "pygments_lexer": "ipython3",
   "version": "3.7.4"
  }
 },
 "nbformat": 4,
 "nbformat_minor": 2
}
